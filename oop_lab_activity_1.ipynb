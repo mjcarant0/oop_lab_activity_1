{
 "cells": [
  {
   "cell_type": "markdown",
   "metadata": {},
   "source": [
    "<h1 style=\"text-align: center;\"><b><ins> Object Oriented Programming Laboratory Activity #1 <ins></b></h1>\n"
   ]
  },
  {
   "cell_type": "markdown",
   "metadata": {},
   "source": [
    "<hr>\n",
    "<h3><b> 1. Diamond Shape </b></h3>\n",
    "<p>Write a Python function named print_diamond that takes an odd integer n as an argument and prints a diamond shape with a width of n using the * character. </p>\n",
    "\n",
    "For n = 5, the output should be:\n",
    "<p style=\"text-align: center;\">\n",
    "  *  <br>\n",
    " *** <br>\n",
    "*****<br>\n",
    " *** <br>\n",
    "  *  <br>\n",
    "</p>\n",
    "\n",
    "<em> Note: If an even number is passed, the function should return \"Please provide an odd integer.\" </em>"
   ]
  },
  {
   "cell_type": "code",
   "execution_count": null,
   "metadata": {},
   "outputs": [],
   "source": [
    "while True: # Using infinite loop to repeatedly ask the user for input until it's valid\n",
    "    try:\n",
    "        user_number = int(input(\"Input an odd number: \")) # Ask the user to input a number\n",
    "        \n",
    "        # Check if the number is odd\n",
    "        if user_number % 2 != 1: \n",
    "            raise ValueError(\"Please provide an odd integer.\") # Raise an error\n",
    "        else:\n",
    "            # Top half of the diamond\n",
    "            for n in range(user_number): \n",
    "                for i in range(user_number - n - 1):\n",
    "                    print(\" \", end=\"\")\n",
    "                for i in range(n + 1):\n",
    "                    print(\"* \", end=\"\")\n",
    "                print()\n",
    "            # Bottom half of the diamond\n",
    "            for n in range(user_number): \n",
    "                for i in range(n + 1):\n",
    "                    print(\" \", end=\"\")\n",
    "                for i in range(user_number - n - 1):\n",
    "                    print(\"* \", end=\"\")\n",
    "                print()\n",
    "            break # Exit the loop\n",
    "        \n",
    "    except ValueError as e: \n",
    "        print(e) # Print the error message"
   ]
  },
  {
   "cell_type": "markdown",
   "metadata": {},
   "source": [
    "<hr>\n",
    "<h3>\n",
    "    <b>2. Create a Program that will Delete All Duplicate Characters in a String</b>\n",
    "</h3>\n",
    "\n",
    "<p>Input starts with a number N and is followed by N strings.</p>\n",
    "\n",
    "<p>\n",
    "    <b>Output: </b>Print the character with all the duplicate characters removed\n",
    "</p>\n",
    "\n",
    "<p>\n",
    "    <b>Sample Input #1</b><br>\n",
    "    Harrenhal<br>Drogos<br>Thoros of Myr<br>Iron Born\n",
    "</p>\n",
    "\n",
    "<p>\n",
    "    <b>Sample Output #1</b><br>\n",
    "    enl<br>Drgs<br>ThsfMy<br>IB\n",
    "</p>"
   ]
  },
  {
   "cell_type": "code",
   "execution_count": null,
   "metadata": {},
   "outputs": [],
   "source": [
    "def remove_duplicate(user_input): \n",
    "    char_list = [] # Initialize an empty list to store characters without duplicates\n",
    "    \n",
    "    for char in user_input:\n",
    "        if char not in char_list: # Check if the character is already in the list\n",
    "            char_list.append(char) # Append the character to the list if it is not in the list\n",
    "    char_output = \"\".join(char_list)\n",
    "    \n",
    "    return char_output # Return the characters with duplicates removed\n",
    "\n",
    "user_input = input(\"Input any characters: \") # Ask the user to input any characters\n",
    "print(f\"Input: {user_input}\") # Print the user's input\n",
    "print(f\"Output: {remove_duplicate(user_input)}\") # Print the output after removing the duplicates\n"
   ]
  },
  {
   "cell_type": "markdown",
   "metadata": {},
   "source": [
    "<hr>\n",
    "<h3>\n",
    "    <b>3. What is the output of the code below?</b>\n",
    "</h3>"
   ]
  },
  {
   "cell_type": "code",
   "execution_count": null,
   "metadata": {},
   "outputs": [],
   "source": [
    "for i in range(2):\n",
    "    for j in range(2):\n",
    "        print(i, j)\n",
    "    else:\n",
    "        print(\"Inner End\")\n",
    "else:\n",
    "    print(\"Outer End\")"
   ]
  },
  {
   "cell_type": "markdown",
   "metadata": {},
   "source": [
    "<p>\n",
    "    <b>Answer: </b>\n",
    "</p>\n",
    "<pre>\n",
    "    0 0\n",
    "    0 1\n",
    "    Inner End\n",
    "    1 0\n",
    "    1 1\n",
    "    Inner End\n",
    "    Outer End\n",
    "</pre>"
   ]
  }
 ],
 "metadata": {
  "kernelspec": {
   "display_name": "Python 3",
   "language": "python",
   "name": "python3"
  },
  "language_info": {
   "codemirror_mode": {
    "name": "ipython",
    "version": 3
   },
   "file_extension": ".py",
   "mimetype": "text/x-python",
   "name": "python",
   "nbconvert_exporter": "python",
   "pygments_lexer": "ipython3",
   "version": "3.12.2"
  }
 },
 "nbformat": 4,
 "nbformat_minor": 2
}
