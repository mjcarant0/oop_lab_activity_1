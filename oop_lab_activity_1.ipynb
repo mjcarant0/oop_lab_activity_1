{
 "cells": [
  {
   "cell_type": "markdown",
   "metadata": {},
   "source": [
    "<h1 style=\"text-align: center;\"><b><ins> OOP Lab Activity 1 <ins></b></h1>\n"
   ]
  },
  {
   "cell_type": "markdown",
   "metadata": {},
   "source": [
    "<hr>\n",
    "<h3><b> 1. Diamond Shape </b></h3>\n",
    "<p>Write a Python function named print_diamond that takes an odd integer n as an argument and prints a diamond shape with a width of n using the * character. </p>\n",
    "\n",
    "For n = 5, the output should be:\n",
    "<p style=\"text-align: center;\">  *  </p>\n",
    "<p style=\"text-align: center;\"> *** </p>\n",
    "<p style=\"text-align: center;\">*****</p>\n",
    "<p style=\"text-align: center;\"> *** </p>\n",
    "<p style=\"text-align: center;\">  *  </p>\n",
    "\n",
    "<em> Note: If an even number is passed, the function should return \"Please provide an odd integer.\" </em>"
   ]
  },
  {
   "cell_type": "code",
   "execution_count": null,
   "metadata": {
    "vscode": {
     "languageId": "plaintext"
    }
   },
   "outputs": [],
   "source": []
  },
  {
   "cell_type": "markdown",
   "metadata": {},
   "source": [
    "<hr>\n",
    "<h3>\n",
    "    <b>2. Create a Program that will Delete All Duplicate Characters in a String</b>\n",
    "</h3>\n",
    "\n",
    "<p>Input starts with a number N and is followed by N strings.</p>\n",
    "\n",
    "<p>\n",
    "    <b>Output: </b>Print the character with all the duplicate characters removed\n",
    "</p>\n",
    "\n",
    "<p>\n",
    "    <b>Sample Input #1</b><br>\n",
    "    Harrenhal<br>Drogos<br>Thoros of Myr<br>Iron Born\n",
    "</p>\n",
    "\n",
    "<p>\n",
    "    <b>Sample Output #1</b><br>\n",
    "    enl<br>Drgs<br>ThsfMy<br>IB\n",
    "</p>"
   ]
  },
  {
   "cell_type": "code",
   "execution_count": null,
   "metadata": {
    "vscode": {
     "languageId": "plaintext"
    }
   },
   "outputs": [],
   "source": []
  },
  {
   "cell_type": "markdown",
   "metadata": {},
   "source": [
    "<hr>\n",
    "<h3>\n",
    "    <b>3. What is the output of the code below?</b>\n",
    "</h3>"
   ]
  },
  {
   "cell_type": "code",
   "execution_count": null,
   "metadata": {},
   "outputs": [],
   "source": [
    "for i in range(2):\n",
    "    for j in range(2):\n",
    "        print(i, j)\n",
    "    else:\n",
    "        print(\"Inner End\")\n",
    "else:\n",
    "    print(\"Outer End\")"
   ]
  }
 ],
 "metadata": {
  "language_info": {
   "name": "python"
  }
 },
 "nbformat": 4,
 "nbformat_minor": 2
}
